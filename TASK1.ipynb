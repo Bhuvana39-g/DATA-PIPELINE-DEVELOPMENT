{
  "nbformat": 4,
  "nbformat_minor": 0,
  "metadata": {
    "colab": {
      "provenance": []
    },
    "kernelspec": {
      "name": "python3",
      "display_name": "Python 3"
    },
    "language_info": {
      "name": "python"
    }
  },
  "cells": [
    {
      "cell_type": "code",
      "execution_count": 1,
      "metadata": {
        "colab": {
          "base_uri": "https://localhost:8080/"
        },
        "id": "GusY6aFFxBwd",
        "outputId": "b5b07ed2-aff6-456d-db90-938e0bab6061"
      },
      "outputs": [
        {
          "output_type": "stream",
          "name": "stdout",
          "text": [
            "   PassengerId  Survived  Pclass  \\\n",
            "0            1         0       3   \n",
            "1            2         1       1   \n",
            "2            3         1       3   \n",
            "3            4         1       1   \n",
            "4            5         0       3   \n",
            "\n",
            "                                                Name     Sex   Age  SibSp  \\\n",
            "0                            Braund, Mr. Owen Harris    male  22.0      1   \n",
            "1  Cumings, Mrs. John Bradley (Florence Briggs Th...  female  38.0      1   \n",
            "2                             Heikkinen, Miss. Laina  female  26.0      0   \n",
            "3       Futrelle, Mrs. Jacques Heath (Lily May Peel)  female  35.0      1   \n",
            "4                           Allen, Mr. William Henry    male  35.0      0   \n",
            "\n",
            "   Parch            Ticket     Fare Cabin Embarked  \n",
            "0      0         A/5 21171   7.2500   NaN        S  \n",
            "1      0          PC 17599  71.2833   C85        C  \n",
            "2      0  STON/O2. 3101282   7.9250   NaN        S  \n",
            "3      0            113803  53.1000  C123        S  \n",
            "4      0            373450   8.0500   NaN        S  \n"
          ]
        }
      ],
      "source": [
        "import pandas as pd\n",
        "\n",
        "# Load the Titanic CSV file you just uploaded\n",
        "df = pd.read_csv('train.csv')\n",
        "\n",
        "# Show the first 5 rows\n",
        "print(df.head())\n"
      ]
    },
    {
      "cell_type": "code",
      "source": [
        "# Show summary of missing values in each column\n",
        "print(df.isnull().sum())\n"
      ],
      "metadata": {
        "colab": {
          "base_uri": "https://localhost:8080/"
        },
        "id": "t7xd6StIxjKO",
        "outputId": "93e9172c-cb63-41dd-9804-f7dbc0298519"
      },
      "execution_count": 2,
      "outputs": [
        {
          "output_type": "stream",
          "name": "stdout",
          "text": [
            "PassengerId      0\n",
            "Survived         0\n",
            "Pclass           0\n",
            "Name             0\n",
            "Sex              0\n",
            "Age            177\n",
            "SibSp            0\n",
            "Parch            0\n",
            "Ticket           0\n",
            "Fare             0\n",
            "Cabin          687\n",
            "Embarked         2\n",
            "dtype: int64\n"
          ]
        }
      ]
    },
    {
      "cell_type": "code",
      "source": [
        "# Fill Age missing values with the median\n",
        "df[\"Age\"].fillna(df[\"Age\"].median(), inplace=True)\n",
        "\n",
        "# Drop Cabin column\n",
        "df.drop(\"Cabin\", axis=1, inplace=True)\n",
        "\n",
        "# Fill Embarked missing values with the mode\n",
        "df[\"Embarked\"].fillna(df[\"Embarked\"].mode()[0], inplace=True)\n",
        "\n",
        "# Confirm no more missing values\n",
        "print(df.isnull().sum())\n"
      ],
      "metadata": {
        "colab": {
          "base_uri": "https://localhost:8080/"
        },
        "id": "bPLVMc_Dx3qM",
        "outputId": "90b4ca6d-af63-426a-d4d5-003053769b9d"
      },
      "execution_count": 3,
      "outputs": [
        {
          "output_type": "stream",
          "name": "stdout",
          "text": [
            "PassengerId    0\n",
            "Survived       0\n",
            "Pclass         0\n",
            "Name           0\n",
            "Sex            0\n",
            "Age            0\n",
            "SibSp          0\n",
            "Parch          0\n",
            "Ticket         0\n",
            "Fare           0\n",
            "Embarked       0\n",
            "dtype: int64\n"
          ]
        },
        {
          "output_type": "stream",
          "name": "stderr",
          "text": [
            "/tmp/ipython-input-3-4153197747.py:2: FutureWarning: A value is trying to be set on a copy of a DataFrame or Series through chained assignment using an inplace method.\n",
            "The behavior will change in pandas 3.0. This inplace method will never work because the intermediate object on which we are setting values always behaves as a copy.\n",
            "\n",
            "For example, when doing 'df[col].method(value, inplace=True)', try using 'df.method({col: value}, inplace=True)' or df[col] = df[col].method(value) instead, to perform the operation inplace on the original object.\n",
            "\n",
            "\n",
            "  df[\"Age\"].fillna(df[\"Age\"].median(), inplace=True)\n",
            "/tmp/ipython-input-3-4153197747.py:8: FutureWarning: A value is trying to be set on a copy of a DataFrame or Series through chained assignment using an inplace method.\n",
            "The behavior will change in pandas 3.0. This inplace method will never work because the intermediate object on which we are setting values always behaves as a copy.\n",
            "\n",
            "For example, when doing 'df[col].method(value, inplace=True)', try using 'df.method({col: value}, inplace=True)' or df[col] = df[col].method(value) instead, to perform the operation inplace on the original object.\n",
            "\n",
            "\n",
            "  df[\"Embarked\"].fillna(df[\"Embarked\"].mode()[0], inplace=True)\n"
          ]
        }
      ]
    },
    {
      "cell_type": "code",
      "source": [
        "from sklearn.preprocessing import LabelEncoder\n",
        "\n",
        "# Initialize LabelEncoder\n",
        "le = LabelEncoder()\n",
        "\n",
        "# Encode 'Sex' column\n",
        "df[\"Sex\"] = le.fit_transform(df[\"Sex\"])\n",
        "\n",
        "# Encode 'Embarked' column\n",
        "df[\"Embarked\"] = le.fit_transform(df[\"Embarked\"])\n",
        "\n",
        "# Display first 5 rows to check\n",
        "print(df.head())\n"
      ],
      "metadata": {
        "colab": {
          "base_uri": "https://localhost:8080/"
        },
        "id": "X1maXa6hyLDr",
        "outputId": "42dbd177-58d4-4114-9a36-fefccf462261"
      },
      "execution_count": 4,
      "outputs": [
        {
          "output_type": "stream",
          "name": "stdout",
          "text": [
            "   PassengerId  Survived  Pclass  \\\n",
            "0            1         0       3   \n",
            "1            2         1       1   \n",
            "2            3         1       3   \n",
            "3            4         1       1   \n",
            "4            5         0       3   \n",
            "\n",
            "                                                Name  Sex   Age  SibSp  Parch  \\\n",
            "0                            Braund, Mr. Owen Harris    1  22.0      1      0   \n",
            "1  Cumings, Mrs. John Bradley (Florence Briggs Th...    0  38.0      1      0   \n",
            "2                             Heikkinen, Miss. Laina    0  26.0      0      0   \n",
            "3       Futrelle, Mrs. Jacques Heath (Lily May Peel)    0  35.0      1      0   \n",
            "4                           Allen, Mr. William Henry    1  35.0      0      0   \n",
            "\n",
            "             Ticket     Fare  Embarked  \n",
            "0         A/5 21171   7.2500         2  \n",
            "1          PC 17599  71.2833         0  \n",
            "2  STON/O2. 3101282   7.9250         2  \n",
            "3            113803  53.1000         2  \n",
            "4            373450   8.0500         2  \n"
          ]
        }
      ]
    },
    {
      "cell_type": "code",
      "source": [
        "from sklearn.preprocessing import StandardScaler\n",
        "\n",
        "# Initialize the scaler\n",
        "scaler = StandardScaler()\n",
        "\n",
        "# Scale 'Age' and 'Fare' columns\n",
        "df[[\"Age\", \"Fare\"]] = scaler.fit_transform(df[[\"Age\", \"Fare\"]])\n",
        "\n",
        "# Display first 5 rows to check scaling\n",
        "print(df.head())\n"
      ],
      "metadata": {
        "colab": {
          "base_uri": "https://localhost:8080/"
        },
        "id": "AuB_iB2vySU0",
        "outputId": "3e0f0841-1481-41a5-a468-97632f1d7cf8"
      },
      "execution_count": 5,
      "outputs": [
        {
          "output_type": "stream",
          "name": "stdout",
          "text": [
            "   PassengerId  Survived  Pclass  \\\n",
            "0            1         0       3   \n",
            "1            2         1       1   \n",
            "2            3         1       3   \n",
            "3            4         1       1   \n",
            "4            5         0       3   \n",
            "\n",
            "                                                Name  Sex       Age  SibSp  \\\n",
            "0                            Braund, Mr. Owen Harris    1 -0.565736      1   \n",
            "1  Cumings, Mrs. John Bradley (Florence Briggs Th...    0  0.663861      1   \n",
            "2                             Heikkinen, Miss. Laina    0 -0.258337      0   \n",
            "3       Futrelle, Mrs. Jacques Heath (Lily May Peel)    0  0.433312      1   \n",
            "4                           Allen, Mr. William Henry    1  0.433312      0   \n",
            "\n",
            "   Parch            Ticket      Fare  Embarked  \n",
            "0      0         A/5 21171 -0.502445         2  \n",
            "1      0          PC 17599  0.786845         0  \n",
            "2      0  STON/O2. 3101282 -0.488854         2  \n",
            "3      0            113803  0.420730         2  \n",
            "4      0            373450 -0.486337         2  \n"
          ]
        }
      ]
    },
    {
      "cell_type": "code",
      "source": [
        "# Add IsMinor column (1 if Age < 18, else 0)\n",
        "df[\"IsMinor\"] = (df[\"Age\"] < 0).astype(int)\n",
        "\n",
        "# Display first 5 rows to verify\n",
        "print(df[[\"Age\", \"IsMinor\"]].head())\n"
      ],
      "metadata": {
        "colab": {
          "base_uri": "https://localhost:8080/"
        },
        "id": "64w1_f2qyYUL",
        "outputId": "76e6e404-0270-4822-cf55-9425428a7efb"
      },
      "execution_count": 6,
      "outputs": [
        {
          "output_type": "stream",
          "name": "stdout",
          "text": [
            "        Age  IsMinor\n",
            "0 -0.565736        1\n",
            "1  0.663861        0\n",
            "2 -0.258337        1\n",
            "3  0.433312        0\n",
            "4  0.433312        0\n"
          ]
        }
      ]
    },
    {
      "cell_type": "code",
      "source": [
        "# Save the cleaned and transformed dataset to a CSV file\n",
        "df.to_csv(\"processed_titanic.csv\", index=False)\n",
        "\n",
        "print(\"Processed dataset saved successfully!\")\n"
      ],
      "metadata": {
        "colab": {
          "base_uri": "https://localhost:8080/"
        },
        "id": "ZkBuAY6syj8R",
        "outputId": "b7e8da68-9edf-4c8b-91a8-6f7ad937d35f"
      },
      "execution_count": 7,
      "outputs": [
        {
          "output_type": "stream",
          "name": "stdout",
          "text": [
            "Processed dataset saved successfully!\n"
          ]
        }
      ]
    },
    {
      "cell_type": "code",
      "source": [
        "readme_text = \"\"\"\n",
        "# Task 1 – ETL Pipeline (Titanic Dataset)\n",
        "\n",
        "## Description\n",
        "This project performs an ETL (Extract, Transform, Load) pipeline on the Titanic dataset from Kaggle.\n",
        "\n",
        "## Steps Performed\n",
        "- **Extract:** Loaded the dataset from local Kaggle file\n",
        "- **Transform:**\n",
        "  - Handled missing values (Age, Cabin, Embarked)\n",
        "  - Encoded categorical variables (Sex, Embarked)\n",
        "  - Scaled numerical features (Age, Fare)\n",
        "  - Added a derived feature (`IsMinor`)\n",
        "- **Load:** Saved the processed dataset to `processed_titanic.csv`\n",
        "\n",
        "## Tools Used\n",
        "- Python\n",
        "- Pandas\n",
        "- Scikit-learn\n",
        "\n",
        "## Output\n",
        "The file `processed_titanic.csv` contains the final clean dataset ready for modeling.\n",
        "\"\"\"\n",
        "\n",
        "# Write README.md file\n",
        "with open(\"README.md\", \"w\") as file:\n",
        "    file.write(readme_text)\n",
        "\n",
        "print(\"README.md file created successfully!\")\n"
      ],
      "metadata": {
        "colab": {
          "base_uri": "https://localhost:8080/"
        },
        "id": "TI-VxSUOzgU2",
        "outputId": "0445937f-cadb-4568-cbca-154027da8605"
      },
      "execution_count": 8,
      "outputs": [
        {
          "output_type": "stream",
          "name": "stdout",
          "text": [
            "README.md file created successfully!\n"
          ]
        }
      ]
    }
  ]
}